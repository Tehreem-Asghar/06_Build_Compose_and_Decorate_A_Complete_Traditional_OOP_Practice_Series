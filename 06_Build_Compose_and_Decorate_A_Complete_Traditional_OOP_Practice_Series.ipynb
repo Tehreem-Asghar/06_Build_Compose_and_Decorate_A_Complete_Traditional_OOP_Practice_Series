{
  "nbformat": 4,
  "nbformat_minor": 0,
  "metadata": {
    "colab": {
      "provenance": [],
      "authorship_tag": "ABX9TyM4xBlDImTkgsm7KFxhaDTN",
      "include_colab_link": true
    },
    "kernelspec": {
      "name": "python3",
      "display_name": "Python 3"
    },
    "language_info": {
      "name": "python"
    }
  },
  "cells": [
    {
      "cell_type": "markdown",
      "metadata": {
        "id": "view-in-github",
        "colab_type": "text"
      },
      "source": [
        "<a href=\"https://colab.research.google.com/github/Tehreem-Asghar/06_Build_Compose_and_Decorate_A_Complete_Traditional_OOP_Practice_Series/blob/main/06_Build_Compose_and_Decorate_A_Complete_Traditional_OOP_Practice_Series.ipynb\" target=\"_parent\"><img src=\"https://colab.research.google.com/assets/colab-badge.svg\" alt=\"Open In Colab\"/></a>"
      ]
    },
    {
      "cell_type": "markdown",
      "source": [
        "# **1. Using self**\n",
        "\n",
        "**Assignment**:\n",
        "Create a class Student with attributes name and marks. Use the self keyword to initialize these values via a constructor. Add a method display() that prints student details."
      ],
      "metadata": {
        "id": "xWxCF3J7XUtV"
      }
    },
    {
      "cell_type": "code",
      "execution_count": null,
      "metadata": {
        "colab": {
          "base_uri": "https://localhost:8080/"
        },
        "id": "WsTkGSHyXTCV",
        "outputId": "0abd49aa-98c6-496f-e64c-a2c8fe72a6f1"
      },
      "outputs": [
        {
          "output_type": "stream",
          "name": "stdout",
          "text": [
            "Name: Tehreem, Marks: 19\n",
            "Name: Ayesha, Marks: 18\n"
          ]
        }
      ],
      "source": [
        "class Student:\n",
        "    def __init__(self, name, marks):\n",
        "        self.name = name\n",
        "        self.marks = marks\n",
        "\n",
        "    def display(self):\n",
        "        print(f\"Name: {self.name}, Marks: {self.marks}\")\n",
        "\n",
        "student1 = Student(\"Tehreem\", 19)\n",
        "student2 = Student(\"Ayesha\", 18)\n",
        "\n",
        "student1.display()\n",
        "student2.display()\n"
      ]
    },
    {
      "cell_type": "markdown",
      "source": [
        "# **2. Using cls**\n",
        "\n",
        "**Assignment:**\n",
        "Create a class Counter that keeps track of how many objects have been created. Use a class variable and a class method with cls to manage and display the count."
      ],
      "metadata": {
        "id": "pD2lHvtMYtQC"
      }
    },
    {
      "cell_type": "code",
      "source": [
        "class Counter:\n",
        "    count = 0\n",
        "\n",
        "    def __init__(self):\n",
        "        Counter.count += 1\n",
        "\n",
        "    @classmethod\n",
        "    def display_count(cls):\n",
        "        print(f\"Total objects created: {cls.count}\")\n",
        "\n",
        "\n",
        "counter1 = Counter()\n",
        "counter2 = Counter()\n",
        "counter3 = Counter()\n",
        "\n",
        "Counter.display_count()"
      ],
      "metadata": {
        "colab": {
          "base_uri": "https://localhost:8080/"
        },
        "id": "7tqQDiAuY1-h",
        "outputId": "01c8c280-c65b-4a33-d70d-484404935625"
      },
      "execution_count": null,
      "outputs": [
        {
          "output_type": "stream",
          "name": "stdout",
          "text": [
            "Total objects created: 3\n"
          ]
        }
      ]
    },
    {
      "cell_type": "markdown",
      "source": [
        "# **3. Public Variables and Methods**\n",
        "\n",
        "**Assignment:**\n",
        "Create a class Car with a public variable brand and a public method start(). Instantiate the class and access both from outside the class."
      ],
      "metadata": {
        "id": "YxLhbbJXZIEY"
      }
    },
    {
      "cell_type": "code",
      "source": [
        "class Car:\n",
        "    def __init__(self, brand):\n",
        "        self.brand = brand\n",
        "\n",
        "    def start(self):\n",
        "        print(f\"{self.brand} car started.\")\n",
        "\n",
        "\n",
        "car = Car(\"Toyota\")\n",
        "print(car.brand)\n",
        "car.start()"
      ],
      "metadata": {
        "colab": {
          "base_uri": "https://localhost:8080/"
        },
        "id": "t-KsigQ5ZQix",
        "outputId": "de110e20-300b-4399-fa1b-f24c2a51e29e"
      },
      "execution_count": null,
      "outputs": [
        {
          "output_type": "stream",
          "name": "stdout",
          "text": [
            "Toyota\n",
            "Toyota car started.\n"
          ]
        }
      ]
    },
    {
      "cell_type": "markdown",
      "source": [
        "# **4. Class Variables and Class Methods**\n",
        "\n",
        "**Assignment:**\n",
        "\n",
        "Create a class Bank with a class variable bank_name. Add a class method change_bank_name(cls, name) that allows changing the bank name. Show that it affects all instances.\n",
        "\n"
      ],
      "metadata": {
        "id": "BndvU6q7Z16z"
      }
    },
    {
      "cell_type": "code",
      "source": [
        "class Bank :\n",
        "    bank_name = \"Habib Bank Limited (HBL)\"\n",
        "\n",
        "    @classmethod\n",
        "    def change_bank_name(cls, name):\n",
        "        cls.bank_name = name\n",
        "\n",
        "bank = Bank()\n",
        "print(bank.bank_name)\n",
        "\n",
        "Bank.change_bank_name(\"National Bank of Pakistan (NBP)\")\n",
        "print(bank.bank_name)\n"
      ],
      "metadata": {
        "colab": {
          "base_uri": "https://localhost:8080/"
        },
        "id": "dFeGMayQZzji",
        "outputId": "3aee916e-99ca-4ddb-b87b-d24c3be30d12"
      },
      "execution_count": 1,
      "outputs": [
        {
          "output_type": "stream",
          "name": "stdout",
          "text": [
            "Habib Bank Limited (HBL)\n",
            "National Bank of Pakistan (NBP)\n"
          ]
        }
      ]
    },
    {
      "cell_type": "markdown",
      "source": [
        "# **5. Static Variables and Static Methods**\n",
        "\n",
        "**Assignment:**\n",
        "\n",
        "Create a class MathUtils with a static method add(a, b) that returns the sum. No class or instance variables should be used."
      ],
      "metadata": {
        "id": "x0CPhHNEbJuf"
      }
    },
    {
      "cell_type": "code",
      "source": [
        "class MathUtils:\n",
        "  @staticmethod\n",
        "  def add(a ,b):\n",
        "    return a + b\n",
        "\n",
        "print(MathUtils.add(2, 3))\n"
      ],
      "metadata": {
        "colab": {
          "base_uri": "https://localhost:8080/"
        },
        "id": "jIiUNk40bT7Z",
        "outputId": "74387f3f-3b7a-416b-eb12-05e656bd15a8"
      },
      "execution_count": 2,
      "outputs": [
        {
          "output_type": "stream",
          "name": "stdout",
          "text": [
            "5\n"
          ]
        }
      ]
    },
    {
      "cell_type": "markdown",
      "source": [
        "# **6. Constructors and Destructors**\n",
        "\n",
        "**Assignment:**\n",
        "\n",
        "Create a class Logger that prints a message when an object is created (constructor) and another message when it is destroyed (destructor)."
      ],
      "metadata": {
        "id": "mC_sbS86btBm"
      }
    },
    {
      "cell_type": "code",
      "source": [
        "class Logger:\n",
        "    def __init__(self):\n",
        "        print(\"Logger object created!\")\n",
        "\n",
        "    def __del__(self):\n",
        "        print(\"Logger object destroyed!\")\n",
        "\n",
        "\n",
        "# Creating an object\n",
        "log = Logger()\n",
        "\n",
        "del log\n",
        "# The destructor will be called automatically when the object is deleted or the program ends\n"
      ],
      "metadata": {
        "colab": {
          "base_uri": "https://localhost:8080/"
        },
        "id": "qf9p-73vbsjn",
        "outputId": "7dc8c284-cc6a-4e12-abe8-7295d427ff79"
      },
      "execution_count": 4,
      "outputs": [
        {
          "output_type": "stream",
          "name": "stdout",
          "text": [
            "Logger object created!\n",
            "Logger object destroyed!\n"
          ]
        }
      ]
    },
    {
      "cell_type": "markdown",
      "source": [
        "# **7. Access Modifiers: Public, Private, and Protected**\n",
        "\n",
        "**Assignment:**\n",
        "\n",
        "Create a class Employee with:\n",
        "\n",
        "a public variable name,\n",
        "\n",
        "a protected variable _salary, and\n",
        "\n",
        "a private variable __ssn.\n",
        "\n",
        "Try accessing all three variables from an object of the class and document what happens."
      ],
      "metadata": {
        "id": "xRR0DVKwcen0"
      }
    },
    {
      "cell_type": "code",
      "source": [
        "class Employee:\n",
        "    def __init__(self, name, salary, ssn):\n",
        "        self.name = name          # Public variable - accessible from anywhere\n",
        "        self._salary = salary     # Protected variable - accessible but should be treated as protected (by convention)\n",
        "        self.__ssn = ssn          # Private variable - name mangled to prevent direct access\n",
        "\n",
        "# Creating an object of the Employee class\n",
        "employee = Employee(\"Tehreem\", 50000, \"123456789\")\n",
        "\n",
        "# Accessing the public variable (works fine)\n",
        "print(employee.name)              # Output: Tehreem\n",
        "\n",
        "# Accessing the protected variable (still accessible, but not recommended outside the class)\n",
        "print(employee._salary)           # Output: 50000\n",
        "\n",
        "# ❌ Direct access: Error\n",
        "# print(employee.__ssn) # 'Employee' object has no attribute '__ssn'\n",
        "\n",
        "\n",
        "# Accessing the private variable using name mangling\n",
        "print(employee._Employee__ssn)    # Output: 123456789\n",
        "\n",
        "\n"
      ],
      "metadata": {
        "colab": {
          "base_uri": "https://localhost:8080/"
        },
        "id": "ou-cC623ceCx",
        "outputId": "e017de43-0f15-4222-aee5-7cea750fc9b5"
      },
      "execution_count": 9,
      "outputs": [
        {
          "output_type": "stream",
          "name": "stdout",
          "text": [
            "Tehreem\n",
            "50000\n",
            "123456789\n"
          ]
        }
      ]
    },
    {
      "cell_type": "markdown",
      "source": [
        "# 8. The super() **Function**\n",
        "**Assignment:**\n",
        "\n",
        "Create a class Person with a constructor that sets the name. Inherit a class Teacher from it, add a subject field, and use super() to call the base class constructor"
      ],
      "metadata": {
        "id": "bBuLoDFweAQ3"
      }
    },
    {
      "cell_type": "code",
      "source": [
        "class Person:\n",
        "    def __init__(self, name):\n",
        "        self.name = name\n",
        "\n",
        "class Teacher(Person):\n",
        "    def __init__(self, name, subject):\n",
        "        super().__init__(name)\n",
        "        self.subject = subject\n",
        "\n",
        "teacher = Teacher(\"Tehreem\", \"Mathematics\")\n",
        "print(teacher.name)\n",
        "print(teacher.subject)\n"
      ],
      "metadata": {
        "colab": {
          "base_uri": "https://localhost:8080/"
        },
        "id": "QvfC2xCXdvGg",
        "outputId": "7b7ca8db-cdca-4256-9db8-79b02d8a80dc"
      },
      "execution_count": 11,
      "outputs": [
        {
          "output_type": "stream",
          "name": "stdout",
          "text": [
            "Tehreem\n",
            "Mathematics\n"
          ]
        }
      ]
    },
    {
      "cell_type": "markdown",
      "source": [
        "# **9. Abstract Classes and Methods**\n",
        "\n",
        "**Assignment:**\n",
        "\n",
        "Use the abc module to create an abstract class Shape with an abstract method area(). Inherit a class Rectangle that implements area()."
      ],
      "metadata": {
        "id": "DwhVOp5Iehff"
      }
    },
    {
      "cell_type": "code",
      "source": [
        "from abc import ABC, abstractmethod\n",
        "\n",
        "class Shape(ABC):\n",
        "    @abstractmethod\n",
        "    def area(self):\n",
        "        pass\n",
        "\n",
        "class Rectangle(Shape):\n",
        "    def __init__(self, length, width):\n",
        "        self.length = length\n",
        "        self.width = width\n",
        "\n",
        "    def area(self):\n",
        "        return self.length * self.width\n",
        "\n",
        "rectangle = Rectangle(5, 3)\n",
        "print(rectangle.area())\n",
        "\n",
        ""
      ],
      "metadata": {
        "colab": {
          "base_uri": "https://localhost:8080/"
        },
        "id": "I0pfQZWIeslV",
        "outputId": "1fec53c6-92fe-4cda-a32c-b1b931c0202c"
      },
      "execution_count": 12,
      "outputs": [
        {
          "output_type": "stream",
          "name": "stdout",
          "text": [
            "15\n"
          ]
        }
      ]
    },
    {
      "cell_type": "markdown",
      "source": [
        "# **10. Instance Methods**\n",
        "\n",
        "**Assignment:**\n",
        "\n",
        "Create a class Dog with instance variables name and breed. Add an instance method bark() that prints a message including the dog's name."
      ],
      "metadata": {
        "id": "CnhKtlzmfNwF"
      }
    },
    {
      "cell_type": "code",
      "source": [
        "class Dog:\n",
        "    def __init__(self, name, breed):\n",
        "        self.name = name\n",
        "        self.breed = breed\n",
        "\n",
        "    def bark(self):\n",
        "        print(f\"{self.name} the {self.breed} says Woof!\")\n",
        "\n",
        "\n",
        "dog = Dog(\"Buddy\", \"Golden Retriever\")\n",
        "dog.bark()\n",
        "\n"
      ],
      "metadata": {
        "colab": {
          "base_uri": "https://localhost:8080/"
        },
        "id": "zCaV0_XAfVCq",
        "outputId": "62604eb7-e1e1-43cb-f88b-9b2f644d96c1"
      },
      "execution_count": 13,
      "outputs": [
        {
          "output_type": "stream",
          "name": "stdout",
          "text": [
            "Buddy the Golden Retriever says Woof!\n"
          ]
        }
      ]
    },
    {
      "cell_type": "markdown",
      "source": [
        "# **11. Class Methods**\n",
        "\n",
        "**Assignment:**\n",
        "\n",
        "Create a class Book with a class variable total_books. Add a class method increment_book_count() to increase the count when a new book is added."
      ],
      "metadata": {
        "id": "e3qPIYoVfiYL"
      }
    },
    {
      "cell_type": "code",
      "source": [
        "class Book:\n",
        "    # Class variable shared by all instances\n",
        "    total_books = 0\n",
        "\n",
        "    def __init__(self, title):\n",
        "        self.title = title  # Instance variable\n",
        "        Book.increment_book_count()  # Call class method to update total_books\n",
        "\n",
        "    @classmethod\n",
        "    def increment_book_count(cls):\n",
        "        cls.total_books += 1  # Access class variable using cls\n",
        "\n",
        "# Creating book objects\n",
        "book1 = Book(\"Python Basics\")\n",
        "book2 = Book(\"Data Structures\")\n",
        "book3 = Book(\"OOP in Python\")\n",
        "\n",
        "# Displaying total books\n",
        "print(\"Total books created:\", Book.total_books)\n",
        "\n"
      ],
      "metadata": {
        "colab": {
          "base_uri": "https://localhost:8080/"
        },
        "id": "1yXUpivpfqnN",
        "outputId": "428a50bc-baa2-4192-f845-4d0d6eeabc93"
      },
      "execution_count": 15,
      "outputs": [
        {
          "output_type": "stream",
          "name": "stdout",
          "text": [
            "Total books created: 3\n"
          ]
        }
      ]
    },
    {
      "cell_type": "markdown",
      "source": [
        "# **12. Static Methods**\n",
        "\n",
        "**Assignment:**\n",
        "\n",
        "Create a class TemperatureConverter with a static method celsius_to_fahrenheit(c) that returns the Fahrenheit value."
      ],
      "metadata": {
        "id": "rILbF0W5gWbd"
      }
    },
    {
      "cell_type": "code",
      "source": [
        "class TemperatureConverter:\n",
        "    @staticmethod\n",
        "    def celsius_to_fahrenheit(c):\n",
        "        return (c * 9/5) + 32\n",
        "\n",
        "print(TemperatureConverter.celsius_to_fahrenheit(25))\n"
      ],
      "metadata": {
        "colab": {
          "base_uri": "https://localhost:8080/"
        },
        "id": "r8V_GZ43guqf",
        "outputId": "e4951c94-1503-44fa-c844-41a70441650b"
      },
      "execution_count": 16,
      "outputs": [
        {
          "output_type": "stream",
          "name": "stdout",
          "text": [
            "77.0\n"
          ]
        }
      ]
    },
    {
      "cell_type": "markdown",
      "source": [
        "# **13. Composition**\n",
        "\n",
        "**Assignment:**\n",
        "\n",
        "Create a class Engine and a class Car. Use composition by passing an Engine object to the Car class during initialization. Access a method of the Engine class via the Car class."
      ],
      "metadata": {
        "id": "SL25-y7ohmjD"
      }
    },
    {
      "cell_type": "code",
      "source": [
        "\n",
        "class Engine:\n",
        "    def start(self):\n",
        "        return \"Engine starting\"\n",
        "\n",
        "class Car:\n",
        "    def __init__(self):\n",
        "        self.engine = Engine()\n",
        "\n",
        "    def start(self):\n",
        "        return f\"Car starting: {self.engine.start()}\"\n",
        "\n",
        "\n",
        "car = Car()\n",
        "print(car.start())"
      ],
      "metadata": {
        "colab": {
          "base_uri": "https://localhost:8080/"
        },
        "id": "TPIyxaG8hv8g",
        "outputId": "a9b2ffc4-0282-47c0-9547-70f2ca6f4539"
      },
      "execution_count": 17,
      "outputs": [
        {
          "output_type": "stream",
          "name": "stdout",
          "text": [
            "Car starting: Engine starting\n"
          ]
        }
      ]
    },
    {
      "cell_type": "markdown",
      "source": [
        "# 14. **Aggregation**\n",
        "\n",
        "**Assignment:**\n",
        "\n",
        "Create a class Department and a class Employee. Use aggregation by having a Department object store a reference to an Employee object that exists independently of it."
      ],
      "metadata": {
        "id": "j6RsLt2ci3RK"
      }
    },
    {
      "cell_type": "code",
      "source": [
        "class Employee:\n",
        "    def __init__(self, name, position):\n",
        "        self.name = name\n",
        "        self.position = position\n",
        "\n",
        "    def get_details(self):\n",
        "        return f\"{self.name} works as {self.position}\"\n",
        "\n",
        "class Department:\n",
        "    def __init__(self, name, employee):\n",
        "        self.name = name\n",
        "        self.employee = employee  # Aggregation: reference to an existing Employee object\n",
        "\n",
        "    def show_employee(self):\n",
        "        return f\"Department: {self.name}, Employee: {self.employee.get_details()}\"\n",
        "\n",
        "# Create Employee object independently\n",
        "emp1 = Employee(\"Tehreem\", \"Software Engineer\")\n",
        "\n",
        "# Pass the existing Employee object to Department (aggregation)\n",
        "dept = Department(\"IT\", emp1)\n",
        "\n",
        "print(dept.show_employee())"
      ],
      "metadata": {
        "colab": {
          "base_uri": "https://localhost:8080/"
        },
        "id": "fV_dzpA_jA6U",
        "outputId": "ccbabefe-892a-45eb-defb-86331cb3d33d"
      },
      "execution_count": 19,
      "outputs": [
        {
          "output_type": "stream",
          "name": "stdout",
          "text": [
            "Department: IT, Employee: Tehreem works as Software Engineer\n"
          ]
        }
      ]
    },
    {
      "cell_type": "markdown",
      "source": [
        "# **15. Method Resolution Order (MRO) and Diamond Inheritance**\n",
        "\n",
        "**Assignment:**\n",
        "\n",
        "Create four classes:\n",
        "\n",
        "A with a method show(),\n",
        "\n",
        "B and C that inherit from A and override show(),\n",
        "\n",
        "D that inherits from both B and C.\n",
        "\n",
        "Create an object of D and call show() to observe MRO."
      ],
      "metadata": {
        "id": "RZdRjp1oj2vq"
      }
    },
    {
      "cell_type": "code",
      "source": [
        "class A:\n",
        "    def show(self):\n",
        "        print(\"Method from class A\")\n",
        "\n",
        "class B(A):\n",
        "    def show(self):\n",
        "        print(\"Method from class B\")\n",
        "\n",
        "class C(A):\n",
        "    def show(self):\n",
        "        print(\"Method from class C\")\n",
        "\n",
        "\n",
        "class D(B, C):\n",
        "  pass\n",
        "\n",
        "\n",
        "d = D()\n",
        "d.show()\n",
        "print(D.mro())\n",
        "\n"
      ],
      "metadata": {
        "colab": {
          "base_uri": "https://localhost:8080/"
        },
        "id": "YHnhVyLjkgs2",
        "outputId": "d8fca5df-9f01-4555-efdf-bb9f5f4a3b98"
      },
      "execution_count": 23,
      "outputs": [
        {
          "output_type": "stream",
          "name": "stdout",
          "text": [
            "Method from class B\n",
            "[<class '__main__.D'>, <class '__main__.B'>, <class '__main__.C'>, <class '__main__.A'>, <class 'object'>]\n"
          ]
        }
      ]
    },
    {
      "cell_type": "markdown",
      "source": [
        "# **16. Function Decorators**\n",
        "\n",
        "**Assignment:**\n",
        "\n",
        "Write a decorator function log_function_call that prints \"Function is being called\" before a function executes. Apply it to a function say_hello()."
      ],
      "metadata": {
        "id": "LgvQpw2rlKMq"
      }
    },
    {
      "cell_type": "code",
      "source": [
        "# Decorator function\n",
        "def log_function_call(func):\n",
        "    def wrapper():\n",
        "        print(\"Function is being called\")\n",
        "        func()  # Call the original function\n",
        "    return wrapper\n",
        "\n",
        "# Applying the decorator\n",
        "@log_function_call\n",
        "def say_hello():\n",
        "    print(\"Hello!\")\n",
        "\n",
        "# Calling the decorated function\n",
        "say_hello()\n"
      ],
      "metadata": {
        "colab": {
          "base_uri": "https://localhost:8080/"
        },
        "id": "K_t2AXmmlRGP",
        "outputId": "d6eb1410-dc91-4240-ebc0-d137a74329f0"
      },
      "execution_count": 25,
      "outputs": [
        {
          "output_type": "stream",
          "name": "stdout",
          "text": [
            "Function is being called\n",
            "Hello!\n"
          ]
        }
      ]
    },
    {
      "cell_type": "markdown",
      "source": [
        "# **17. Class Decorators**\n",
        "\n",
        "**Assignment:**\n",
        "\n",
        "Create a class decorator add_greeting that modifies a class to add a greet() method returning \"Hello from Decorator!\". Apply it to a class Person.\n",
        "\n"
      ],
      "metadata": {
        "id": "2sb3ATXglnNH"
      }
    },
    {
      "cell_type": "code",
      "source": [
        "# Class decorator that adds greet() method\n",
        "def add_greeting(cls):\n",
        "    def greet(self):\n",
        "        return \"Hello from Decorator!\"\n",
        "    cls.greet = greet  # Dynamically add greet method to the class\n",
        "    return cls\n",
        "\n",
        "# Apply the decorator to the Person class\n",
        "@add_greeting\n",
        "class Person:\n",
        "    def __init__(self, name):\n",
        "        self.name = name\n",
        "\n",
        "# Test the added method\n",
        "p = Person(\"Tehreem\")\n",
        "print(p.greet())"
      ],
      "metadata": {
        "colab": {
          "base_uri": "https://localhost:8080/"
        },
        "id": "7qla5_SZl4CM",
        "outputId": "ccc877a0-1d44-46eb-f9a1-c53faf849f95"
      },
      "execution_count": 26,
      "outputs": [
        {
          "output_type": "stream",
          "name": "stdout",
          "text": [
            "Hello from Decorator!\n"
          ]
        }
      ]
    },
    {
      "cell_type": "markdown",
      "source": [
        "# **18. Property Decorators: @property, @setter, and @deleter**\n",
        "\n",
        "**Assignment:**\n",
        "\n",
        "Create a class Product with a private attribute _price. Use @property to get the price, @price.setter to update it, and @price.deleter to delete it."
      ],
      "metadata": {
        "id": "DTalxGdWm0NR"
      }
    },
    {
      "cell_type": "code",
      "source": [
        "class Product:\n",
        "    def __init__(self, price):\n",
        "        self._price = price  # Private attribute\n",
        "\n",
        "    # Getter method\n",
        "    @property\n",
        "    def price(self):\n",
        "        return self._price\n",
        "\n",
        "    # Setter method\n",
        "    @price.setter\n",
        "    def price(self, new_price):\n",
        "        if new_price >= 0:\n",
        "            self._price = new_price\n",
        "        else:\n",
        "            print(\"Price can't be negative!\")\n",
        "\n",
        "    # Deleter method\n",
        "    @price.deleter\n",
        "    def price(self):\n",
        "        print(\"Deleting price...\")\n",
        "        del self._price\n",
        "\n",
        "\n",
        "# Testing the Product class\n",
        "p = Product(100)\n",
        "print(p.price)    # Access price via getter\n",
        "\n",
        "p.price = 150     # Update price via setter\n",
        "print(p.price)\n",
        "\n",
        "p.price = -50     # Try setting invalid price\n",
        "\n",
        "del p.price       # Delete the price attribute\n",
        "# print(p.price)  # This will raise an error now because _price is deleted"
      ],
      "metadata": {
        "colab": {
          "base_uri": "https://localhost:8080/"
        },
        "id": "wJ5vIJ-6nMfx",
        "outputId": "391b8652-5939-4343-b2e6-37d54a9ded3c"
      },
      "execution_count": 27,
      "outputs": [
        {
          "output_type": "stream",
          "name": "stdout",
          "text": [
            "100\n",
            "150\n",
            "Price can't be negative!\n",
            "Deleting price...\n"
          ]
        }
      ]
    },
    {
      "cell_type": "markdown",
      "source": [
        "# **19. callable() and __call__()**\n",
        "\n",
        "**Assignment:**\n",
        "\n",
        "Create a class Multiplier with an __init__() to set a factor. Define a __call__() method that multiplies an input by the factor. Test it with callable() and by calling the object like a function."
      ],
      "metadata": {
        "id": "xpWyOwgjn3f9"
      }
    },
    {
      "cell_type": "code",
      "source": [
        "class Multiplier:\n",
        "    def __init__(self, factor):\n",
        "        self.factor = factor\n",
        "\n",
        "    def __call__(self, value):\n",
        "        return value * self.factor\n",
        "\n",
        "\n",
        "# Creating object\n",
        "double = Multiplier(2)\n",
        "triple = Multiplier(3)\n",
        "\n",
        "# Testing with callable()\n",
        "print(callable(double))  # True, because __call__ is defined\n",
        "\n",
        "# Calling object like a function\n",
        "print(double(5))   # Output: 10\n",
        "print(triple(4))   # Output: 12\n"
      ],
      "metadata": {
        "colab": {
          "base_uri": "https://localhost:8080/"
        },
        "id": "ByxDoRJIoWWk",
        "outputId": "d33c95ea-c63a-4c14-8ea9-fca15e0369c1"
      },
      "execution_count": 28,
      "outputs": [
        {
          "output_type": "stream",
          "name": "stdout",
          "text": [
            "True\n",
            "10\n",
            "12\n"
          ]
        }
      ]
    },
    {
      "cell_type": "markdown",
      "source": [
        "# **20. Creating a Custom Exception**\n",
        "\n",
        "**Assignment:**\n",
        "\n",
        "Create a custom exception InvalidAgeError. Write a function check_age(age) that raises this exception if age < 18. Handle it with try...except."
      ],
      "metadata": {
        "id": "0FezMLZyoeGP"
      }
    },
    {
      "cell_type": "code",
      "source": [
        "# Step 1: Create custom exception\n",
        "class InvalidAgeError(Exception):\n",
        "    def __init__(self, message=\"Age must be 18 or older\"):\n",
        "        self.message = message\n",
        "        super().__init__(self.message)\n",
        "\n",
        "# Step 2: Function that raises the exception\n",
        "def check_age(age):\n",
        "    if age < 18:\n",
        "        raise InvalidAgeError()\n",
        "    else:\n",
        "        print(\"Access granted!\")\n",
        "\n",
        "# Step 3: Try...Except block to handle the exception\n",
        "try:\n",
        "    user_age = int(input(\"Enter your age: \"))\n",
        "    check_age(user_age)\n",
        "except InvalidAgeError as e:\n",
        "    print(f\"Custom Exception Caught: {e}\")\n"
      ],
      "metadata": {
        "colab": {
          "base_uri": "https://localhost:8080/"
        },
        "id": "syfUar5tonkN",
        "outputId": "2bc0d73f-1376-45cd-c5e2-f092a9b6f955"
      },
      "execution_count": 29,
      "outputs": [
        {
          "output_type": "stream",
          "name": "stdout",
          "text": [
            "Enter your age: 6\n",
            "Custom Exception Caught: Age must be 18 or older\n"
          ]
        }
      ]
    },
    {
      "cell_type": "markdown",
      "source": [
        "# **21. Make a Custom Class Iterable**\n",
        "\n",
        "**Assignment:**\n",
        "\n",
        "Create a class Countdown that takes a start number. Implement __iter__() and __next__() to make the object iterable in a for-loop, counting down to 0."
      ],
      "metadata": {
        "id": "3LwLnPPvpC-F"
      }
    },
    {
      "cell_type": "code",
      "source": [
        "class Countdown:\n",
        "    def __init__(self, start):\n",
        "        self.current = start\n",
        "\n",
        "    def __iter__(self):\n",
        "        return self  # The class itself is the iterator\n",
        "\n",
        "    def __next__(self):\n",
        "        if self.current < 0:\n",
        "            raise StopIteration  # Stop when the count is below 0\n",
        "        value = self.current\n",
        "        self.current -= 1\n",
        "        return value\n",
        "\n",
        "\n",
        "# Using the Countdown class in a for-loop\n",
        "for num in Countdown(5):\n",
        "    print(num)\n"
      ],
      "metadata": {
        "colab": {
          "base_uri": "https://localhost:8080/"
        },
        "id": "E061SjRbodwk",
        "outputId": "0c1d3754-1ed4-40d2-abb1-41d3ddfeeb38"
      },
      "execution_count": 30,
      "outputs": [
        {
          "output_type": "stream",
          "name": "stdout",
          "text": [
            "5\n",
            "4\n",
            "3\n",
            "2\n",
            "1\n",
            "0\n"
          ]
        }
      ]
    }
  ]
}